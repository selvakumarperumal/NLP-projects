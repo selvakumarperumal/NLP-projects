{
 "cells": [
  {
   "cell_type": "code",
   "execution_count": 37,
   "id": "07f1be8b",
   "metadata": {},
   "outputs": [],
   "source": [
    "import pandas as pd \n",
    "import spacy\n",
    "import numpy as np"
   ]
  },
  {
   "cell_type": "code",
   "execution_count": 38,
   "id": "a2882621",
   "metadata": {},
   "outputs": [],
   "source": [
    "nlp = spacy.load(\"en_core_web_sm\") "
   ]
  },
  {
   "cell_type": "code",
   "execution_count": 61,
   "id": "f9e52e55",
   "metadata": {},
   "outputs": [],
   "source": [
    "df = pd.read_json('../data/News_Category_Dataset_v3.json', lines=True)"
   ]
  },
  {
   "cell_type": "code",
   "execution_count": 65,
   "id": "d83ad05c",
   "metadata": {},
   "outputs": [],
   "source": [
    "counts = df.category.value_counts()"
   ]
  },
  {
   "cell_type": "code",
   "execution_count": 66,
   "id": "0430cd38",
   "metadata": {},
   "outputs": [],
   "source": [
    "labels = df.category.unique()\n",
    "col = df.columns"
   ]
  },
  {
   "cell_type": "code",
   "execution_count": 67,
   "id": "bc9b9c15",
   "metadata": {},
   "outputs": [
    {
     "data": {
      "text/plain": [
       "Index(['link', 'headline', 'category', 'short_description', 'authors', 'date'], dtype='object')"
      ]
     },
     "execution_count": 67,
     "metadata": {},
     "output_type": "execute_result"
    }
   ],
   "source": [
    "col"
   ]
  },
  {
   "cell_type": "code",
   "execution_count": 68,
   "id": "c90843e3",
   "metadata": {},
   "outputs": [],
   "source": [
    "df1 = pd.DataFrame(columns=col)"
   ]
  },
  {
   "cell_type": "code",
   "execution_count": 69,
   "id": "74630870",
   "metadata": {},
   "outputs": [],
   "source": [
    "i = 0\n",
    "for label in labels:\n",
    "    if counts[label]>5000 and i<5:\n",
    "        df2 = df[df.category==label].sample(250, random_state=2022)\n",
    "        df1 = pd.concat([df1, df2], axis=0)\n",
    "        i+=1"
   ]
  },
  {
   "cell_type": "code",
   "execution_count": 70,
   "id": "09259726",
   "metadata": {},
   "outputs": [
    {
     "data": {
      "text/plain": [
       "COMEDY           250\n",
       "PARENTING        250\n",
       "SPORTS           250\n",
       "ENTERTAINMENT    250\n",
       "POLITICS         250\n",
       "Name: category, dtype: int64"
      ]
     },
     "execution_count": 70,
     "metadata": {},
     "output_type": "execute_result"
    }
   ],
   "source": [
    "df1.category.value_counts()"
   ]
  },
  {
   "cell_type": "code",
   "execution_count": 71,
   "id": "18ac8a70",
   "metadata": {},
   "outputs": [],
   "source": [
    "target = {}\n",
    "i = 0\n",
    "for label in labels:\n",
    "    target[label] = i\n",
    "    i+=1"
   ]
  },
  {
   "cell_type": "code",
   "execution_count": 72,
   "id": "7293de8a",
   "metadata": {},
   "outputs": [],
   "source": [
    "df1[\"category_num\"] = df['category'].map(target)"
   ]
  },
  {
   "cell_type": "code",
   "execution_count": 74,
   "id": "57a81e81",
   "metadata": {},
   "outputs": [],
   "source": [
    "def preprocess(text):\n",
    "    doc = nlp(text)\n",
    "    temp = []\n",
    "    for token in doc:\n",
    "        if token.is_stop or token.is_punct:\n",
    "            continue\n",
    "        temp.append(token.text)\n",
    "    return ' '.join(temp)"
   ]
  },
  {
   "cell_type": "code",
   "execution_count": 56,
   "id": "24b53036",
   "metadata": {},
   "outputs": [],
   "source": [
    "df1['short_description'] = df1['short_description'].astype(str)"
   ]
  },
  {
   "cell_type": "code",
   "execution_count": 57,
   "id": "ff534cad",
   "metadata": {},
   "outputs": [],
   "source": [
    "df1['text'] = df1['short_description'].apply(lambda text: preprocess(text))"
   ]
  },
  {
   "cell_type": "code",
   "execution_count": 58,
   "id": "a3826ae8",
   "metadata": {},
   "outputs": [],
   "source": [
    "df1['vector'] = df1[ 'text'].apply(lambda text: nlp(text).vector)"
   ]
  },
  {
   "cell_type": "code",
   "execution_count": 59,
   "id": "143a378f",
   "metadata": {},
   "outputs": [
    {
     "data": {
      "text/html": [
       "<div>\n",
       "<style scoped>\n",
       "    .dataframe tbody tr th:only-of-type {\n",
       "        vertical-align: middle;\n",
       "    }\n",
       "\n",
       "    .dataframe tbody tr th {\n",
       "        vertical-align: top;\n",
       "    }\n",
       "\n",
       "    .dataframe thead th {\n",
       "        text-align: right;\n",
       "    }\n",
       "</style>\n",
       "<table border=\"1\" class=\"dataframe\">\n",
       "  <thead>\n",
       "    <tr style=\"text-align: right;\">\n",
       "      <th></th>\n",
       "      <th>link</th>\n",
       "      <th>headline</th>\n",
       "      <th>category</th>\n",
       "      <th>short_description</th>\n",
       "      <th>authors</th>\n",
       "      <th>date</th>\n",
       "      <th>category_num</th>\n",
       "      <th>text</th>\n",
       "      <th>vector</th>\n",
       "    </tr>\n",
       "  </thead>\n",
       "  <tbody>\n",
       "    <tr>\n",
       "      <th>15312</th>\n",
       "      <td>https://www.huffingtonpost.com/entry/trevor-no...</td>\n",
       "      <td>Trevor Noah Calls Out Hillary Clinton, And He'...</td>\n",
       "      <td>COMEDY</td>\n",
       "      <td>The \"Daily Show\" host condemned Clinton for no...</td>\n",
       "      <td>Ron Dicker</td>\n",
       "      <td>2018-01-30</td>\n",
       "      <td>1</td>\n",
       "      <td>Daily host condemned Clinton firing adviser ac...</td>\n",
       "      <td>[-0.30942327, 0.4471988, 0.06940637, -0.280289...</td>\n",
       "    </tr>\n",
       "    <tr>\n",
       "      <th>126777</th>\n",
       "      <td>https://www.huffingtonpost.com/entry/cat-ninja...</td>\n",
       "      <td>What Sorcery Is This?</td>\n",
       "      <td>COMEDY</td>\n",
       "      <td></td>\n",
       "      <td>Carol Hartsell</td>\n",
       "      <td>2014-07-07</td>\n",
       "      <td>1</td>\n",
       "      <td></td>\n",
       "      <td>[]</td>\n",
       "    </tr>\n",
       "    <tr>\n",
       "      <th>47238</th>\n",
       "      <td>https://www.huffingtonpost.com/entry/hi-death-...</td>\n",
       "      <td>Hi, Death? I'd Like To Speak To Your Manager, ...</td>\n",
       "      <td>COMEDY</td>\n",
       "      <td>The service has been quite terrible lately.</td>\n",
       "      <td>Andy McDonald</td>\n",
       "      <td>2016-12-30</td>\n",
       "      <td>1</td>\n",
       "      <td>service terrible lately</td>\n",
       "      <td>[0.11467292, 0.6868064, 0.061303835, 0.0076178...</td>\n",
       "    </tr>\n",
       "    <tr>\n",
       "      <th>119663</th>\n",
       "      <td>https://www.huffingtonpost.com/entry/new-again...</td>\n",
       "      <td>...New Again?</td>\n",
       "      <td>COMEDY</td>\n",
       "      <td></td>\n",
       "      <td>Marcia Liss, Contributor(Almost) Famous Cartoo...</td>\n",
       "      <td>2014-09-26</td>\n",
       "      <td>1</td>\n",
       "      <td></td>\n",
       "      <td>[]</td>\n",
       "    </tr>\n",
       "    <tr>\n",
       "      <th>30724</th>\n",
       "      <td>https://www.huffingtonpost.com/entry/there-was...</td>\n",
       "      <td>There Was No Audio, So We Captioned The Trump ...</td>\n",
       "      <td>COMEDY</td>\n",
       "      <td>Shame recognize shame.</td>\n",
       "      <td>Andy McDonald</td>\n",
       "      <td>2017-07-07</td>\n",
       "      <td>1</td>\n",
       "      <td>Shame recognize shame</td>\n",
       "      <td>[0.056958873, -0.08312402, 0.5640574, -0.54336...</td>\n",
       "    </tr>\n",
       "    <tr>\n",
       "      <th>51307</th>\n",
       "      <td>https://www.huffingtonpost.com/entry/kate-mcki...</td>\n",
       "      <td>Fake Ruth Bader Ginsburg Won't Quit Under Pres...</td>\n",
       "      <td>COMEDY</td>\n",
       "      <td>\"I’m eating an apple a day to keep Ben Carson ...</td>\n",
       "      <td>Lee Moran</td>\n",
       "      <td>2016-11-13</td>\n",
       "      <td>1</td>\n",
       "      <td>eating apple day Ben Carson away</td>\n",
       "      <td>[0.48893794, 0.08664507, -0.0056601763, -0.405...</td>\n",
       "    </tr>\n",
       "    <tr>\n",
       "      <th>123664</th>\n",
       "      <td>https://www.huffingtonpost.com/entry/10-of-the...</td>\n",
       "      <td>10 Of The Most Creative Acts Of Vandalism Ever</td>\n",
       "      <td>COMEDY</td>\n",
       "      <td></td>\n",
       "      <td></td>\n",
       "      <td>2014-08-11</td>\n",
       "      <td>1</td>\n",
       "      <td></td>\n",
       "      <td>[]</td>\n",
       "    </tr>\n",
       "    <tr>\n",
       "      <th>13885</th>\n",
       "      <td>https://www.huffingtonpost.com/entry/jimmy-kim...</td>\n",
       "      <td>Jimmy Kimmel's Fake Olympics Takes Another Tur...</td>\n",
       "      <td>COMEDY</td>\n",
       "      <td>Ouch!</td>\n",
       "      <td>Lee Moran</td>\n",
       "      <td>2018-02-21</td>\n",
       "      <td>1</td>\n",
       "      <td>Ouch</td>\n",
       "      <td>[-0.033032298, 0.5720664, 0.74516773, -1.22504...</td>\n",
       "    </tr>\n",
       "    <tr>\n",
       "      <th>85444</th>\n",
       "      <td>https://www.huffingtonpost.com/entry/what-the-...</td>\n",
       "      <td>What The Benghazi Hearings Would Look Like If ...</td>\n",
       "      <td>COMEDY</td>\n",
       "      <td>\"Hey, c'mon guys. Let's get outta here and pol...</td>\n",
       "      <td>John Trowbridge</td>\n",
       "      <td>2015-10-22</td>\n",
       "      <td>1</td>\n",
       "      <td>Hey c'm guys Let outta polish Miller High Life</td>\n",
       "      <td>[0.7651166, -0.27829581, -0.15790081, -0.28048...</td>\n",
       "    </tr>\n",
       "    <tr>\n",
       "      <th>75876</th>\n",
       "      <td>https://www.huffingtonpost.com/entry/star-wars...</td>\n",
       "      <td>Brilliant Human Creates 'Star Wars' 'Making A ...</td>\n",
       "      <td>COMEDY</td>\n",
       "      <td>That'll do, Internet. That'll do.</td>\n",
       "      <td>Andy McDonald</td>\n",
       "      <td>2016-02-08</td>\n",
       "      <td>1</td>\n",
       "      <td>Internet</td>\n",
       "      <td>[0.7534405, 0.8921896, 0.24037391, -1.3566835,...</td>\n",
       "    </tr>\n",
       "  </tbody>\n",
       "</table>\n",
       "</div>"
      ],
      "text/plain": [
       "                                                     link  \\\n",
       "15312   https://www.huffingtonpost.com/entry/trevor-no...   \n",
       "126777  https://www.huffingtonpost.com/entry/cat-ninja...   \n",
       "47238   https://www.huffingtonpost.com/entry/hi-death-...   \n",
       "119663  https://www.huffingtonpost.com/entry/new-again...   \n",
       "30724   https://www.huffingtonpost.com/entry/there-was...   \n",
       "51307   https://www.huffingtonpost.com/entry/kate-mcki...   \n",
       "123664  https://www.huffingtonpost.com/entry/10-of-the...   \n",
       "13885   https://www.huffingtonpost.com/entry/jimmy-kim...   \n",
       "85444   https://www.huffingtonpost.com/entry/what-the-...   \n",
       "75876   https://www.huffingtonpost.com/entry/star-wars...   \n",
       "\n",
       "                                                 headline category  \\\n",
       "15312   Trevor Noah Calls Out Hillary Clinton, And He'...   COMEDY   \n",
       "126777                              What Sorcery Is This?   COMEDY   \n",
       "47238   Hi, Death? I'd Like To Speak To Your Manager, ...   COMEDY   \n",
       "119663                                      ...New Again?   COMEDY   \n",
       "30724   There Was No Audio, So We Captioned The Trump ...   COMEDY   \n",
       "51307   Fake Ruth Bader Ginsburg Won't Quit Under Pres...   COMEDY   \n",
       "123664     10 Of The Most Creative Acts Of Vandalism Ever   COMEDY   \n",
       "13885   Jimmy Kimmel's Fake Olympics Takes Another Tur...   COMEDY   \n",
       "85444   What The Benghazi Hearings Would Look Like If ...   COMEDY   \n",
       "75876   Brilliant Human Creates 'Star Wars' 'Making A ...   COMEDY   \n",
       "\n",
       "                                        short_description  \\\n",
       "15312   The \"Daily Show\" host condemned Clinton for no...   \n",
       "126777                                                      \n",
       "47238         The service has been quite terrible lately.   \n",
       "119663                                                      \n",
       "30724                              Shame recognize shame.   \n",
       "51307   \"I’m eating an apple a day to keep Ben Carson ...   \n",
       "123664                                                      \n",
       "13885                                               Ouch!   \n",
       "85444   \"Hey, c'mon guys. Let's get outta here and pol...   \n",
       "75876                   That'll do, Internet. That'll do.   \n",
       "\n",
       "                                                  authors       date  \\\n",
       "15312                                          Ron Dicker 2018-01-30   \n",
       "126777                                     Carol Hartsell 2014-07-07   \n",
       "47238                                       Andy McDonald 2016-12-30   \n",
       "119663  Marcia Liss, Contributor(Almost) Famous Cartoo... 2014-09-26   \n",
       "30724                                       Andy McDonald 2017-07-07   \n",
       "51307                                           Lee Moran 2016-11-13   \n",
       "123664                                                    2014-08-11   \n",
       "13885                                           Lee Moran 2018-02-21   \n",
       "85444                                     John Trowbridge 2015-10-22   \n",
       "75876                                       Andy McDonald 2016-02-08   \n",
       "\n",
       "        category_num                                               text  \\\n",
       "15312              1  Daily host condemned Clinton firing adviser ac...   \n",
       "126777             1                                                      \n",
       "47238              1                            service terrible lately   \n",
       "119663             1                                                      \n",
       "30724              1                              Shame recognize shame   \n",
       "51307              1                   eating apple day Ben Carson away   \n",
       "123664             1                                                      \n",
       "13885              1                                               Ouch   \n",
       "85444              1     Hey c'm guys Let outta polish Miller High Life   \n",
       "75876              1                                           Internet   \n",
       "\n",
       "                                                   vector  \n",
       "15312   [-0.30942327, 0.4471988, 0.06940637, -0.280289...  \n",
       "126777                                                 []  \n",
       "47238   [0.11467292, 0.6868064, 0.061303835, 0.0076178...  \n",
       "119663                                                 []  \n",
       "30724   [0.056958873, -0.08312402, 0.5640574, -0.54336...  \n",
       "51307   [0.48893794, 0.08664507, -0.0056601763, -0.405...  \n",
       "123664                                                 []  \n",
       "13885   [-0.033032298, 0.5720664, 0.74516773, -1.22504...  \n",
       "85444   [0.7651166, -0.27829581, -0.15790081, -0.28048...  \n",
       "75876   [0.7534405, 0.8921896, 0.24037391, -1.3566835,...  "
      ]
     },
     "execution_count": 59,
     "metadata": {},
     "output_type": "execute_result"
    }
   ],
   "source": [
    "df1.head(10)"
   ]
  },
  {
   "cell_type": "code",
   "execution_count": 52,
   "id": "f2305fb1",
   "metadata": {},
   "outputs": [],
   "source": [
    "x = df1.vector"
   ]
  },
  {
   "cell_type": "code",
   "execution_count": 53,
   "id": "23ed49bd",
   "metadata": {},
   "outputs": [
    {
     "ename": "ValueError",
     "evalue": "all input arrays must have the same shape",
     "output_type": "error",
     "traceback": [
      "\u001b[0;31m---------------------------------------------------------------------------\u001b[0m",
      "\u001b[0;31mValueError\u001b[0m                                Traceback (most recent call last)",
      "\u001b[0;32m/tmp/ipykernel_32957/1748276939.py\u001b[0m in \u001b[0;36m<module>\u001b[0;34m\u001b[0m\n\u001b[0;32m----> 1\u001b[0;31m \u001b[0mx\u001b[0m \u001b[0;34m=\u001b[0m \u001b[0mnp\u001b[0m\u001b[0;34m.\u001b[0m\u001b[0mstack\u001b[0m\u001b[0;34m(\u001b[0m\u001b[0mx\u001b[0m\u001b[0;34m)\u001b[0m\u001b[0;34m\u001b[0m\u001b[0;34m\u001b[0m\u001b[0m\n\u001b[0m",
      "\u001b[0;32m<__array_function__ internals>\u001b[0m in \u001b[0;36mstack\u001b[0;34m(*args, **kwargs)\u001b[0m\n",
      "\u001b[0;32m~/anaconda3/lib/python3.9/site-packages/numpy/core/shape_base.py\u001b[0m in \u001b[0;36mstack\u001b[0;34m(arrays, axis, out)\u001b[0m\n\u001b[1;32m    425\u001b[0m     \u001b[0mshapes\u001b[0m \u001b[0;34m=\u001b[0m \u001b[0;34m{\u001b[0m\u001b[0marr\u001b[0m\u001b[0;34m.\u001b[0m\u001b[0mshape\u001b[0m \u001b[0;32mfor\u001b[0m \u001b[0marr\u001b[0m \u001b[0;32min\u001b[0m \u001b[0marrays\u001b[0m\u001b[0;34m}\u001b[0m\u001b[0;34m\u001b[0m\u001b[0;34m\u001b[0m\u001b[0m\n\u001b[1;32m    426\u001b[0m     \u001b[0;32mif\u001b[0m \u001b[0mlen\u001b[0m\u001b[0;34m(\u001b[0m\u001b[0mshapes\u001b[0m\u001b[0;34m)\u001b[0m \u001b[0;34m!=\u001b[0m \u001b[0;36m1\u001b[0m\u001b[0;34m:\u001b[0m\u001b[0;34m\u001b[0m\u001b[0;34m\u001b[0m\u001b[0m\n\u001b[0;32m--> 427\u001b[0;31m         \u001b[0;32mraise\u001b[0m \u001b[0mValueError\u001b[0m\u001b[0;34m(\u001b[0m\u001b[0;34m'all input arrays must have the same shape'\u001b[0m\u001b[0;34m)\u001b[0m\u001b[0;34m\u001b[0m\u001b[0;34m\u001b[0m\u001b[0m\n\u001b[0m\u001b[1;32m    428\u001b[0m \u001b[0;34m\u001b[0m\u001b[0m\n\u001b[1;32m    429\u001b[0m     \u001b[0mresult_ndim\u001b[0m \u001b[0;34m=\u001b[0m \u001b[0marrays\u001b[0m\u001b[0;34m[\u001b[0m\u001b[0;36m0\u001b[0m\u001b[0;34m]\u001b[0m\u001b[0;34m.\u001b[0m\u001b[0mndim\u001b[0m \u001b[0;34m+\u001b[0m \u001b[0;36m1\u001b[0m\u001b[0;34m\u001b[0m\u001b[0;34m\u001b[0m\u001b[0m\n",
      "\u001b[0;31mValueError\u001b[0m: all input arrays must have the same shape"
     ]
    }
   ],
   "source": [
    "x = np.stack(x)"
   ]
  },
  {
   "cell_type": "code",
   "execution_count": null,
   "id": "8d437d24",
   "metadata": {},
   "outputs": [],
   "source": [
    "y = df1['category_num']"
   ]
  },
  {
   "cell_type": "code",
   "execution_count": null,
   "id": "10a02f12",
   "metadata": {},
   "outputs": [],
   "source": [
    "from sklearn.model_selection import train_test_split\n",
    "\n",
    "x_train, x_test, y_train, y_test = train_test_split(x, y, test_size=0.1, stratify=y, random_state=2022)"
   ]
  },
  {
   "cell_type": "code",
   "execution_count": null,
   "id": "6a7b3357",
   "metadata": {},
   "outputs": [],
   "source": [
    "from sklearn.naive_bayes import MultinomialNB\n",
    "from sklearn.neighbors import KNeighborsClassifier\n",
    "from sklearn.feature_extraction.text import CountVectorizer\n",
    "from sklearn.pipeline import Pipeline\n",
    "from sklearn.metrics import classification_report\n",
    "\n",
    "model = Pipeline([\n",
    "    (\"vec\", CountVectorizer(ngram_range=(1,1))),\n",
    "    (\"model\", MultinomialNB())\n",
    "])\n",
    "\n",
    "model.fit(x_train, y_train)\n",
    "\n",
    "y_pred = model.predict(x_test)\n",
    "\n",
    "print(classification_report(y_test, y_pred))"
   ]
  }
 ],
 "metadata": {
  "kernelspec": {
   "display_name": "Python 3 (ipykernel)",
   "language": "python",
   "name": "python3"
  },
  "language_info": {
   "codemirror_mode": {
    "name": "ipython",
    "version": 3
   },
   "file_extension": ".py",
   "mimetype": "text/x-python",
   "name": "python",
   "nbconvert_exporter": "python",
   "pygments_lexer": "ipython3",
   "version": "3.9.7"
  }
 },
 "nbformat": 4,
 "nbformat_minor": 5
}
